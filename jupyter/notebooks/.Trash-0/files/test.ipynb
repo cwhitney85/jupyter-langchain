{
 "cells": [
  {
   "cell_type": "code",
   "execution_count": 2,
   "id": "83890b04-f127-40a9-a414-f88c857b02a0",
   "metadata": {},
   "outputs": [
    {
     "data": {
      "text/plain": [
       "25"
      ]
     },
     "execution_count": 2,
     "metadata": {},
     "output_type": "execute_result"
    }
   ],
   "source": [
    "def test_func(num):\n",
    "    return num * num\n",
    "\n",
    "test_func(5)"
   ]
  },
  {
   "cell_type": "code",
   "execution_count": null,
   "id": "bed5f0fe-e1a7-406b-b057-cb293fd3d602",
   "metadata": {},
   "outputs": [],
   "source": []
  }
 ],
 "metadata": {
  "kernelspec": {
   "display_name": "Python 3 (ipykernel)",
   "language": "python",
   "name": "python3"
  },
  "language_info": {
   "codemirror_mode": {
    "name": "ipython",
    "version": 3
   },
   "file_extension": ".py",
   "mimetype": "text/x-python",
   "name": "python",
   "nbconvert_exporter": "python",
   "pygments_lexer": "ipython3",
   "version": "3.9.19"
  }
 },
 "nbformat": 4,
 "nbformat_minor": 5
}
